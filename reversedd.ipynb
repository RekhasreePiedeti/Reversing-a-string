{
 "cells": [
  {
   "cell_type": "code",
   "execution_count": 14,
   "id": "a4760e44",
   "metadata": {},
   "outputs": [
    {
     "name": "stdout",
     "output_type": "stream",
     "text": [
      "321\n"
     ]
    }
   ],
   "source": [
    "n=123\n",
    "r=0\n",
    "while n!=0:\n",
    "    digit =n%10\n",
    "    r=r*10+digit\n",
    "    n//=10\n",
    "print(r)"
   ]
  },
  {
   "cell_type": "code",
   "execution_count": 13,
   "id": "c5f3fd95",
   "metadata": {},
   "outputs": [
    {
     "name": "stdout",
     "output_type": "stream",
     "text": [
      "ahker\n"
     ]
    }
   ],
   "source": [
    "x=\"rekha\"\n",
    "print((x)[::-1])"
   ]
  },
  {
   "cell_type": "code",
   "execution_count": 4,
   "id": "ad8ec5ca",
   "metadata": {},
   "outputs": [
    {
     "name": "stdout",
     "output_type": "stream",
     "text": [
      "ahker\n"
     ]
    }
   ],
   "source": [
    "x=\"rekha\"\n",
    "r=\"\"\n",
    "i=len(x)\n",
    "while i>0:\n",
    "    r=r+x[i-1]\n",
    "    i=i-1\n",
    "print(r)"
   ]
  },
  {
   "cell_type": "code",
   "execution_count": 2,
   "id": "fda35373",
   "metadata": {},
   "outputs": [
    {
     "name": "stdout",
     "output_type": "stream",
     "text": [
      "llun\n"
     ]
    }
   ],
   "source": [
    "x=\"null\"\n",
    "r=\"\"\n",
    "i=len(x)\n",
    "while i>0:\n",
    "    r=r+x[i-1]\n",
    "    i=i-1\n",
    "print(r)"
   ]
  },
  {
   "cell_type": "code",
   "execution_count": 11,
   "id": "72b57fb7",
   "metadata": {},
   "outputs": [
    {
     "name": "stdout",
     "output_type": "stream",
     "text": [
      "ahkeR\n"
     ]
    }
   ],
   "source": [
    "def r(n):\n",
    "    return n[::-1]\n",
    "x=r(\"Rekha\")\n",
    "print(x)"
   ]
  },
  {
   "cell_type": "code",
   "execution_count": 10,
   "id": "17840de1",
   "metadata": {},
   "outputs": [
    {
     "name": "stdout",
     "output_type": "stream",
     "text": [
      "ahkeR\n"
     ]
    }
   ],
   "source": [
    "def r2(n):\n",
    "    r=\"\"\n",
    "    i=len(x)\n",
    "    while i>0:\n",
    "        r=r+x[i-1]\n",
    "        i=i-1\n",
    "    return r\n",
    "x=r2(\"Rekha\")\n",
    "print(x)"
   ]
  },
  {
   "cell_type": "code",
   "execution_count": null,
   "id": "2f931710",
   "metadata": {},
   "outputs": [],
   "source": []
  }
 ],
 "metadata": {
  "kernelspec": {
   "display_name": "Python 3",
   "language": "python",
   "name": "python3"
  },
  "language_info": {
   "codemirror_mode": {
    "name": "ipython",
    "version": 3
   },
   "file_extension": ".py",
   "mimetype": "text/x-python",
   "name": "python",
   "nbconvert_exporter": "python",
   "pygments_lexer": "ipython3",
   "version": "3.8.8"
  }
 },
 "nbformat": 4,
 "nbformat_minor": 5
}
